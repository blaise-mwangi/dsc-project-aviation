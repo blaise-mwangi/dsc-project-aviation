{
 "cells": [
  {
   "cell_type": "markdown",
   "id": "ae890248-9670-4dfd-9f19-883629f5b330",
   "metadata": {},
   "source": [
    "## **PHASE 1 PROJECT: AVIATION**\n",
    "## <u>**Overview**</u>\n",
    "We will use data cleaning, imputation, analysis, and visualization to generate insights for purchasing and operating airplanes.\n",
    "\n",
    "## <u>**Business Problem**</u>\n",
    "A company is expanding into new industries to diversify its portfolio. Specifically, they are interested in purchasing and operating airplanes for commercial and private enterprises but do not know anything about the potential risks of aircraft. You are charged with determining which aircraft are the lowest risk for the company to start this new business endeavor. You must then translate your findings into actionable insights that the head of the new aviation division can use to help decide which aircraft to purchase.\n",
    "\n",
    "***Some of the business objectives we will focus on are:***\n",
    " - Try to give a brief understanding of the potential risks of aircraft.\n",
    " - Determining whether it is better purchasing and operating airplanes for commercial or private enterprises\n",
    " - Determining which aircraft are the lowest risk for the company when starting this new business endeavor.\n",
    " - Translate your findings into actionable insights that the head of the new aviation division can use to help decide which aircraft to    purchase.\n",
    "\n",
    "## <u>**Data**</u>\n",
    "The dataset used is from the National Transportation Safety Board which includes aviation accident data from 1962 to 2023 about civil aviation accidents and selected incidents in the United States and international waters.\n"
   ]
  },
  {
   "cell_type": "code",
   "execution_count": null,
   "id": "83cfcc0d-41c4-43d6-a5fe-86f300c63497",
   "metadata": {},
   "outputs": [],
   "source": []
  }
 ],
 "metadata": {
  "kernelspec": {
   "display_name": "Python 3 (ipykernel)",
   "language": "python",
   "name": "python3"
  },
  "language_info": {
   "codemirror_mode": {
    "name": "ipython",
    "version": 3
   },
   "file_extension": ".py",
   "mimetype": "text/x-python",
   "name": "python",
   "nbconvert_exporter": "python",
   "pygments_lexer": "ipython3",
   "version": "3.12.7"
  }
 },
 "nbformat": 4,
 "nbformat_minor": 5
}
